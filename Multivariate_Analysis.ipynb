import pandas as pd
import numpy as np
from pdb import set_trace as st
from copy import copy
import re
import seaborn as sns
import fastcluster
from scipy.cluster.hierarchy import linkage, dendrogram
from scipy.spatial.distance import pdist
import matplotlib.pyplot as plt
from matplotlib.patches import Patch
from scipy import stats
import copy

from matplotlib.patches import Patch
from sklearn.manifold import TSNE #need scikit-learn installed
from sklearn.decomposition import PCA
from statsmodels.stats.multitest import multipletests

import matplotlib.pyplot as plt
import scipy
from matplotlib.patches import Patch
import matplotlib.colors as mcolors

#Data Organizing, Normalization, Transformation

#1. Loading Data
proteomics_file = 'proteomics_random.xlsx'
Data = pd.read_excel(proteomics_file)

clinical_file = 'covars_random.xlsx'
clinical = pd.read_excel(clinical_file)

#2. Dropping Unwanted Columns (PG.ProteinAccessions, PG.ProteinDescriptions)
Data = Data.drop(columns=['PG.ProteinAccessions', 'PG.ProteinDescriptions'])

#3. Set PG.Genes as index
Data = Data.set_index('PG.Genes')
Data.index.name = ''
Data.columns.name = ''

#4. Dropping NaNs (all columns)
Data = Data.dropna()

#5. Normalize + Transform
Data_RowNorm = Data.div(Data.mean(axis=1), axis=0)
Data_ColNorm = Data_RowNorm.div(Data_RowNorm.mean(axis=1), axis=0)
Data_Log2 = np.log2(Data_ColNorm)

#looping over columns and deleting any columns that contain "NA"
for i in Data_Log2.columns:
    if 'NA' in i:
        Data_Log2 = Data_Log2.drop(columns=[i])


#6. Transpose Data
Data_Log2_T = Data_Log2.transpose()


#7. Adding column for PD, CTRL, and T2D groups 
group = []
for i in Data_Log2_T.index:
    group.append(i.split('_')[2])
Data_Log2_T['Group'] = group

#8. Adding a new sample id column (whatever before hte first underscore)
sample_id = []
for i in Data_Log2_T.index:
    sample_id.append(i.split('_')[0])
Data_Log2_T['Sample_ID'] = sample_id
display(Data_Log2_T)
